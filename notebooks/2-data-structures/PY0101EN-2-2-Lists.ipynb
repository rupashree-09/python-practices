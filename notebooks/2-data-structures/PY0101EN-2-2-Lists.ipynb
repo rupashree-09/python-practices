{
  "nbformat": 4,
  "nbformat_minor": 0,
  "metadata": {
    "kernelspec": {
      "display_name": "Python 3",
      "language": "python",
      "name": "python3"
    },
    "language_info": {
      "codemirror_mode": {
        "name": "ipython",
        "version": 3
      },
      "file_extension": ".py",
      "mimetype": "text/x-python",
      "name": "python",
      "nbconvert_exporter": "python",
      "pygments_lexer": "ipython3",
      "version": "3.6.8"
    },
    "colab": {
      "name": "PY0101EN-2-2-Lists.ipynb",
      "provenance": []
    }
  },
  "cells": [
    {
      "cell_type": "markdown",
      "metadata": {
        "id": "xZexQRAt1__4"
      },
      "source": [
        "<a href=\"https://cognitiveclass.ai/\">\n",
        "    <img src=\"https://s3-api.us-geo.objectstorage.softlayer.net/cf-courses-data/CognitiveClass/PY0101EN/Ad/CCLog.png\" width=\"200\" align=\"center\">\n",
        "</a>"
      ]
    },
    {
      "cell_type": "markdown",
      "metadata": {
        "id": "EVopA4gD1__6"
      },
      "source": [
        "<h1>Lists in Python</h1>"
      ]
    },
    {
      "cell_type": "markdown",
      "metadata": {
        "id": "CpGnzJMH1__7"
      },
      "source": [
        "<p><strong>Welcome!</strong> This notebook will teach you about the lists in the Python Programming Language. By the end of this lab, you'll know the basics list operations in Python, including indexing, list operations and copy/clone list.</p> "
      ]
    },
    {
      "cell_type": "markdown",
      "metadata": {
        "id": "nmICCrs51__8"
      },
      "source": [
        "<h2>Table of Contents</h2>\n",
        "<div class=\"alert alert-block alert-info\" style=\"margin-top: 20px\">\n",
        "    <ul>\n",
        "        <li>\n",
        "            <a href=\"#dataset\">About the Dataset</a>\n",
        "        </li>\n",
        "        <li>\n",
        "            <a href=\"#list\">Lists</a>\n",
        "            <ul>\n",
        "                <li><a href=\"index\">Indexing</a></li>\n",
        "                <li><a href=\"content\">List Content</a></li>\n",
        "                <li><a href=\"op\">List Operations</a></li>\n",
        "                <li><a href=\"co\">Copy and Clone List</a></li>\n",
        "            </ul>\n",
        "        </li>\n",
        "        <li>\n",
        "            <a href=\"#quiz\">Quiz on Lists</a>\n",
        "        </li>\n",
        "    </ul>\n",
        "    <p>\n",
        "        Estimated time needed: <strong>15 min</strong>\n",
        "    </p>\n",
        "</div>\n",
        "\n",
        "<hr>"
      ]
    },
    {
      "cell_type": "markdown",
      "metadata": {
        "id": "DZ5U25ml1__-"
      },
      "source": [
        "<h2 id=\"#dataset\">About the Dataset</h2>"
      ]
    },
    {
      "cell_type": "markdown",
      "metadata": {
        "id": "RWi_FtTD2AAA"
      },
      "source": [
        "Imagine you received album recommendations from your friends and compiled all of the recommandations into a table, with specific information about each album.\n",
        "\n",
        "The table has one row for each movie and several columns:\n",
        "\n",
        "- **artist** - Name of the artist\n",
        "- **album** - Name of the album\n",
        "- **released_year** - Year the album was released\n",
        "- **length_min_sec** - Length of the album (hours,minutes,seconds)\n",
        "- **genre** - Genre of the album\n",
        "- **music_recording_sales_millions** - Music recording sales (millions in USD) on [SONG://DATABASE](http://www.song-database.com/)\n",
        "- **claimed_sales_millions** - Album's claimed sales (millions in USD) on [SONG://DATABASE](http://www.song-database.com/)\n",
        "- **date_released** - Date on which the album was released\n",
        "- **soundtrack** - Indicates if the album is the movie soundtrack (Y) or (N)\n",
        "- **rating_of_friends** - Indicates the rating from your friends from 1 to 10\n",
        "<br>\n",
        "<br>\n",
        "\n",
        "The dataset can be seen below:\n",
        "\n",
        "<font size=\"1\">\n",
        "<table font-size:xx-small style=\"width:25%\">\n",
        "  <tr>\n",
        "    <th>Artist</th>\n",
        "    <th>Album</th> \n",
        "    <th>Released</th>\n",
        "    <th>Length</th>\n",
        "    <th>Genre</th> \n",
        "    <th>Music recording sales (millions)</th>\n",
        "    <th>Claimed sales (millions)</th>\n",
        "    <th>Released</th>\n",
        "    <th>Soundtrack</th>\n",
        "    <th>Rating (friends)</th>\n",
        "  </tr>\n",
        "  <tr>\n",
        "    <td>Michael Jackson</td>\n",
        "    <td>Thriller</td> \n",
        "    <td>1982</td>\n",
        "    <td>00:42:19</td>\n",
        "    <td>Pop, rock, R&B</td>\n",
        "    <td>46</td>\n",
        "    <td>65</td>\n",
        "    <td>30-Nov-82</td>\n",
        "    <td></td>\n",
        "    <td>10.0</td>\n",
        "  </tr>\n",
        "  <tr>\n",
        "    <td>AC/DC</td>\n",
        "    <td>Back in Black</td> \n",
        "    <td>1980</td>\n",
        "    <td>00:42:11</td>\n",
        "    <td>Hard rock</td>\n",
        "    <td>26.1</td>\n",
        "    <td>50</td>\n",
        "    <td>25-Jul-80</td>\n",
        "    <td></td>\n",
        "    <td>8.5</td>\n",
        "  </tr>\n",
        "    <tr>\n",
        "    <td>Pink Floyd</td>\n",
        "    <td>The Dark Side of the Moon</td> \n",
        "    <td>1973</td>\n",
        "    <td>00:42:49</td>\n",
        "    <td>Progressive rock</td>\n",
        "    <td>24.2</td>\n",
        "    <td>45</td>\n",
        "    <td>01-Mar-73</td>\n",
        "    <td></td>\n",
        "    <td>9.5</td>\n",
        "  </tr>\n",
        "    <tr>\n",
        "    <td>Whitney Houston</td>\n",
        "    <td>The Bodyguard</td> \n",
        "    <td>1992</td>\n",
        "    <td>00:57:44</td>\n",
        "    <td>Soundtrack/R&B, soul, pop</td>\n",
        "    <td>26.1</td>\n",
        "    <td>50</td>\n",
        "    <td>25-Jul-80</td>\n",
        "    <td>Y</td>\n",
        "    <td>7.0</td>\n",
        "  </tr>\n",
        "    <tr>\n",
        "    <td>Meat Loaf</td>\n",
        "    <td>Bat Out of Hell</td> \n",
        "    <td>1977</td>\n",
        "    <td>00:46:33</td>\n",
        "    <td>Hard rock, progressive rock</td>\n",
        "    <td>20.6</td>\n",
        "    <td>43</td>\n",
        "    <td>21-Oct-77</td>\n",
        "    <td></td>\n",
        "    <td>7.0</td>\n",
        "  </tr>\n",
        "    <tr>\n",
        "    <td>Eagles</td>\n",
        "    <td>Their Greatest Hits (1971-1975)</td> \n",
        "    <td>1976</td>\n",
        "    <td>00:43:08</td>\n",
        "    <td>Rock, soft rock, folk rock</td>\n",
        "    <td>32.2</td>\n",
        "    <td>42</td>\n",
        "    <td>17-Feb-76</td>\n",
        "    <td></td>\n",
        "    <td>9.5</td>\n",
        "  </tr>\n",
        "    <tr>\n",
        "    <td>Bee Gees</td>\n",
        "    <td>Saturday Night Fever</td> \n",
        "    <td>1977</td>\n",
        "    <td>1:15:54</td>\n",
        "    <td>Disco</td>\n",
        "    <td>20.6</td>\n",
        "    <td>40</td>\n",
        "    <td>15-Nov-77</td>\n",
        "    <td>Y</td>\n",
        "    <td>9.0</td>\n",
        "  </tr>\n",
        "    <tr>\n",
        "    <td>Fleetwood Mac</td>\n",
        "    <td>Rumours</td> \n",
        "    <td>1977</td>\n",
        "    <td>00:40:01</td>\n",
        "    <td>Soft rock</td>\n",
        "    <td>27.9</td>\n",
        "    <td>40</td>\n",
        "    <td>04-Feb-77</td>\n",
        "    <td></td>\n",
        "    <td>9.5</td>\n",
        "  </tr>\n",
        "</table></font>"
      ]
    },
    {
      "cell_type": "markdown",
      "metadata": {
        "id": "2TUr7v472AAB"
      },
      "source": [
        "<hr>"
      ]
    },
    {
      "cell_type": "markdown",
      "metadata": {
        "id": "_07U9Fzq2AAD"
      },
      "source": [
        "<h2 id=\"list\">Lists</h2>"
      ]
    },
    {
      "cell_type": "markdown",
      "metadata": {
        "id": "okUfLDyi2AAE"
      },
      "source": [
        "<h3 id=\"index\">Indexing</h3>"
      ]
    },
    {
      "cell_type": "markdown",
      "metadata": {
        "id": "irAwl1oW2AAG"
      },
      "source": [
        "We are going to take a look at lists in Python. A list is a sequenced collection of different objects such as integers, strings, and other lists as well. The address of each element within a list is called an <b>index</b>. An index is used to access and refer to items within a list."
      ]
    },
    {
      "cell_type": "markdown",
      "metadata": {
        "id": "u4tu694J2AAH"
      },
      "source": [
        "<img src=\"https://s3-api.us-geo.objectstorage.softlayer.net/cf-courses-data/CognitiveClass/PY0101EN/Chapter%202/Images/ListsIndex.png\" width=\"1000\" />"
      ]
    },
    {
      "cell_type": "markdown",
      "metadata": {
        "id": "vo563YVy2AAI"
      },
      "source": [
        " To create a list, type the list within square brackets <b>[ ]</b>, with your content inside the parenthesis and separated by commas. Let’s try it!"
      ]
    },
    {
      "cell_type": "code",
      "metadata": {
        "id": "uWuoNoQ42AAJ",
        "colab": {
          "base_uri": "https://localhost:8080/"
        },
        "outputId": "267e74ed-7d16-4b71-9f1f-51a5a34bbc2b"
      },
      "source": [
        "# Create a list\n",
        "\n",
        "L = [\"Michael Jackson\", 10.1, 1982]\n",
        "L"
      ],
      "execution_count": 1,
      "outputs": [
        {
          "output_type": "execute_result",
          "data": {
            "text/plain": [
              "['Michael Jackson', 10.1, 1982]"
            ]
          },
          "metadata": {},
          "execution_count": 1
        }
      ]
    },
    {
      "cell_type": "markdown",
      "metadata": {
        "id": "r1fsG-SR2AAR"
      },
      "source": [
        "We can use negative and regular indexing with a list :"
      ]
    },
    {
      "cell_type": "markdown",
      "metadata": {
        "id": "nHyIhmFq2AAT"
      },
      "source": [
        "<img src=\"https://s3-api.us-geo.objectstorage.softlayer.net/cf-courses-data/CognitiveClass/PY0101EN/Chapter%202/Images/ListsNeg.png\" width=\"1000\" />"
      ]
    },
    {
      "cell_type": "code",
      "metadata": {
        "id": "0poDkXQE2AAU",
        "colab": {
          "base_uri": "https://localhost:8080/"
        },
        "outputId": "fcbc12ba-4aa4-410b-903c-01927918f6e5"
      },
      "source": [
        "# Print the elements on each index\n",
        "\n",
        "print('the same element using negative and positive indexing:\\n Postive:',L[0],\n",
        "'\\n Negative:' , L[-3]  )\n",
        "print('the same element using negative and positive indexing:\\n Postive:',L[1],\n",
        "'\\n Negative:' , L[-2]  )\n",
        "print('the same element using negative and positive indexing:\\n Postive:',L[2],\n",
        "'\\n Negative:' , L[-1]  )"
      ],
      "execution_count": 2,
      "outputs": [
        {
          "output_type": "stream",
          "name": "stdout",
          "text": [
            "the same element using negative and positive indexing:\n",
            " Postive: Michael Jackson \n",
            " Negative: Michael Jackson\n",
            "the same element using negative and positive indexing:\n",
            " Postive: 10.1 \n",
            " Negative: 10.1\n",
            "the same element using negative and positive indexing:\n",
            " Postive: 1982 \n",
            " Negative: 1982\n"
          ]
        }
      ]
    },
    {
      "cell_type": "markdown",
      "metadata": {
        "id": "x-xBslNH2AAZ"
      },
      "source": [
        "<h3 id=\"content\">List Content</h3>"
      ]
    },
    {
      "cell_type": "markdown",
      "metadata": {
        "id": "T4T38D3K2AAb"
      },
      "source": [
        "Lists can contain strings, floats, and integers. We can nest other lists, and we can also nest tuples and other data structures. The same indexing conventions apply for nesting:    \n"
      ]
    },
    {
      "cell_type": "code",
      "metadata": {
        "id": "ZNG2kj6_2AAc"
      },
      "source": [
        "# Sample List\n",
        "\n",
        "[\"Michael Jackson\", 10.1, 1982, [1, 2], (\"A\", 1)]"
      ],
      "execution_count": null,
      "outputs": []
    },
    {
      "cell_type": "markdown",
      "metadata": {
        "id": "n6qCqbCz2AAh"
      },
      "source": [
        "<h3 id=\"op\">List Operations</h3>"
      ]
    },
    {
      "cell_type": "markdown",
      "metadata": {
        "id": "43aCKaxp2AAj"
      },
      "source": [
        " We can also perform slicing in lists. For example, if we want the last two elements, we use the following command:"
      ]
    },
    {
      "cell_type": "code",
      "metadata": {
        "id": "fkoifts72AAk",
        "colab": {
          "base_uri": "https://localhost:8080/"
        },
        "outputId": "7eec50ef-f9bd-48d3-8144-2bbd8a3410f3"
      },
      "source": [
        "# Sample List\n",
        "\n",
        "L = [\"Michael Jackson\", 10.1,1982,\"MJ\",1]\n",
        "L"
      ],
      "execution_count": 1,
      "outputs": [
        {
          "output_type": "execute_result",
          "data": {
            "text/plain": [
              "['Michael Jackson', 10.1, 1982, 'MJ', 1]"
            ]
          },
          "metadata": {},
          "execution_count": 1
        }
      ]
    },
    {
      "cell_type": "markdown",
      "metadata": {
        "id": "OLCYsAaB2AAs"
      },
      "source": [
        "<img src=\"https://s3-api.us-geo.objectstorage.softlayer.net/cf-courses-data/CognitiveClass/PY0101EN/Chapter%202/Images/ListsSlice.png\" width=\"1000\">"
      ]
    },
    {
      "cell_type": "code",
      "metadata": {
        "id": "mjjkSM5G2AAt",
        "colab": {
          "base_uri": "https://localhost:8080/"
        },
        "outputId": "ee5c3b22-75e0-40ac-f532-bb161f3d3543"
      },
      "source": [
        "# List slicing\n",
        "\n",
        "L[3:5]"
      ],
      "execution_count": 2,
      "outputs": [
        {
          "output_type": "execute_result",
          "data": {
            "text/plain": [
              "['MJ', 1]"
            ]
          },
          "metadata": {},
          "execution_count": 2
        }
      ]
    },
    {
      "cell_type": "markdown",
      "metadata": {
        "id": "OvpOPoBq2AA0"
      },
      "source": [
        "We can use the method <code>extend</code> to add new elements to the list:"
      ]
    },
    {
      "cell_type": "code",
      "metadata": {
        "id": "Dd9fPvoI2AA1",
        "colab": {
          "base_uri": "https://localhost:8080/"
        },
        "outputId": "b6e1f7fa-c200-4e8d-bf8a-d7634bab3181"
      },
      "source": [
        "# Use extend to add elements to list\n",
        "\n",
        "L = [ \"Michael Jackson\", 10.2]\n",
        "L.extend(['pop', 10])\n",
        "L"
      ],
      "execution_count": 3,
      "outputs": [
        {
          "output_type": "execute_result",
          "data": {
            "text/plain": [
              "['Michael Jackson', 10.2, 'pop', 10]"
            ]
          },
          "metadata": {},
          "execution_count": 3
        }
      ]
    },
    {
      "cell_type": "markdown",
      "metadata": {
        "id": "_YmnYpYh2AA7"
      },
      "source": [
        "Another similar method is <code>append</code>. If we apply <code>append</code> instead of <code>extend</code>, we add one element to the list:"
      ]
    },
    {
      "cell_type": "code",
      "metadata": {
        "id": "tU1wjgVV2AA8",
        "colab": {
          "base_uri": "https://localhost:8080/"
        },
        "outputId": "e7b72fb5-df72-4d00-c95b-345a9af17b2c"
      },
      "source": [
        "# Use append to add elements to list\n",
        "\n",
        "L = [ \"Michael Jackson\", 10.2]\n",
        "L.append(['pop', 10])\n",
        "L"
      ],
      "execution_count": 4,
      "outputs": [
        {
          "output_type": "execute_result",
          "data": {
            "text/plain": [
              "['Michael Jackson', 10.2, ['pop', 10]]"
            ]
          },
          "metadata": {},
          "execution_count": 4
        }
      ]
    },
    {
      "cell_type": "markdown",
      "metadata": {
        "id": "DZhP4f5g2ABE"
      },
      "source": [
        " Each time we apply a method, the list changes. If we apply <code>extend</code> we add two new elements to the list. The list <code>L</code> is then modified by adding two new elements:"
      ]
    },
    {
      "cell_type": "code",
      "metadata": {
        "id": "7sKM-tCz2ABI",
        "colab": {
          "base_uri": "https://localhost:8080/"
        },
        "outputId": "55a46a81-6b78-4678-fbdd-2b57e492c5e9"
      },
      "source": [
        "# Use extend to add elements to list\n",
        "\n",
        "L = [ \"Michael Jackson\", 10.2]\n",
        "L.extend(['pop', 10])\n",
        "L"
      ],
      "execution_count": 5,
      "outputs": [
        {
          "output_type": "execute_result",
          "data": {
            "text/plain": [
              "['Michael Jackson', 10.2, 'pop', 10]"
            ]
          },
          "metadata": {},
          "execution_count": 5
        }
      ]
    },
    {
      "cell_type": "markdown",
      "metadata": {
        "id": "zyEaLUBb2ABN"
      },
      "source": [
        "If we append the list  <code>['a','b']</code> we have one new element consisting of a nested list:"
      ]
    },
    {
      "cell_type": "code",
      "metadata": {
        "id": "VwUieRbu2ABO",
        "colab": {
          "base_uri": "https://localhost:8080/"
        },
        "outputId": "9ca20d52-c347-459f-d43c-933d996b4ddd"
      },
      "source": [
        "# Use append to add elements to list\n",
        "\n",
        "L.append(['a','b'])\n",
        "L"
      ],
      "execution_count": 6,
      "outputs": [
        {
          "output_type": "execute_result",
          "data": {
            "text/plain": [
              "['Michael Jackson', 10.2, 'pop', 10, ['a', 'b']]"
            ]
          },
          "metadata": {},
          "execution_count": 6
        }
      ]
    },
    {
      "cell_type": "markdown",
      "metadata": {
        "id": "CL5I8Abc2ABS"
      },
      "source": [
        "As lists are mutable, we can change them. For example, we can change the first element as follows:"
      ]
    },
    {
      "cell_type": "code",
      "metadata": {
        "id": "u1hCSVnr2ABT",
        "colab": {
          "base_uri": "https://localhost:8080/"
        },
        "outputId": "7d715eaf-6d44-4e42-d74d-3e42f5e17a0d"
      },
      "source": [
        "# Change the element based on the index\n",
        "\n",
        "A = [\"disco\", 10, 1.2]\n",
        "print('Before change:', A)\n",
        "A[0] = 'hard rock'\n",
        "print('After change:', A)"
      ],
      "execution_count": 7,
      "outputs": [
        {
          "output_type": "stream",
          "name": "stdout",
          "text": [
            "Before change: ['disco', 10, 1.2]\n",
            "After change: ['hard rock', 10, 1.2]\n"
          ]
        }
      ]
    },
    {
      "cell_type": "markdown",
      "metadata": {
        "id": "jN3NK8022ABY"
      },
      "source": [
        " We can also delete an element of a list using the <code>del</code> command:"
      ]
    },
    {
      "cell_type": "code",
      "metadata": {
        "id": "NSWNK2QO2ABY",
        "colab": {
          "base_uri": "https://localhost:8080/"
        },
        "outputId": "2536891d-10b3-436e-a343-48c78752750e"
      },
      "source": [
        "# Delete the element based on the index\n",
        "\n",
        "print('Before change:', A)\n",
        "del(A[0])\n",
        "print('After change:', A)"
      ],
      "execution_count": 8,
      "outputs": [
        {
          "output_type": "stream",
          "name": "stdout",
          "text": [
            "Before change: ['hard rock', 10, 1.2]\n",
            "After change: [10, 1.2]\n"
          ]
        }
      ]
    },
    {
      "cell_type": "markdown",
      "metadata": {
        "id": "8MWB4Vv82ABd"
      },
      "source": [
        "We can convert a string to a list using <code>split</code>.  For example, the method <code>split</code> translates every group of characters separated by a space into an element in a list:"
      ]
    },
    {
      "cell_type": "code",
      "metadata": {
        "id": "fRkqQYrh2ABe",
        "colab": {
          "base_uri": "https://localhost:8080/"
        },
        "outputId": "f929d5e1-07f3-44c9-b1ad-de56e6ee0d48"
      },
      "source": [
        "# Split the string, default is by space\n",
        "\n",
        "'hard rock'.split()"
      ],
      "execution_count": 9,
      "outputs": [
        {
          "output_type": "execute_result",
          "data": {
            "text/plain": [
              "['hard', 'rock']"
            ]
          },
          "metadata": {},
          "execution_count": 9
        }
      ]
    },
    {
      "cell_type": "markdown",
      "metadata": {
        "id": "T5tGBW142ABi"
      },
      "source": [
        "We can use the split function to separate strings on a specific character. We pass the character we would like to split on into the argument, which in this case is a comma.  The result is a list, and each element corresponds to a set of characters that have been separated by a comma: "
      ]
    },
    {
      "cell_type": "code",
      "metadata": {
        "id": "GJUIWYMA2ABj",
        "colab": {
          "base_uri": "https://localhost:8080/"
        },
        "outputId": "a2970ebc-4bbc-4f85-e7b9-0a810321a663"
      },
      "source": [
        "# Split the string by comma\n",
        "\n",
        "'A,B,C,D'.split(',')"
      ],
      "execution_count": 10,
      "outputs": [
        {
          "output_type": "execute_result",
          "data": {
            "text/plain": [
              "['A', 'B', 'C', 'D']"
            ]
          },
          "metadata": {},
          "execution_count": 10
        }
      ]
    },
    {
      "cell_type": "markdown",
      "metadata": {
        "id": "Q5AzWiOH2ABo"
      },
      "source": [
        "<h3 id=\"co\">Copy and Clone List</h3>"
      ]
    },
    {
      "cell_type": "markdown",
      "metadata": {
        "id": "WygcLlS32ABp"
      },
      "source": [
        "When we set one variable <b>B</b> equal to <b>A</b>; both <b>A</b> and <b>B</b> are referencing the same list in memory:"
      ]
    },
    {
      "cell_type": "code",
      "metadata": {
        "id": "yt-71zAn2ABq",
        "colab": {
          "base_uri": "https://localhost:8080/"
        },
        "outputId": "43ec18d3-a317-4bc4-ac28-c2a0e5022bab"
      },
      "source": [
        "# Copy (copy by reference) the list A\n",
        "\n",
        "A = [\"hard rock\", 10, 1.2]\n",
        "B = A\n",
        "print('A:', A)\n",
        "print('B:', B)"
      ],
      "execution_count": 11,
      "outputs": [
        {
          "output_type": "stream",
          "name": "stdout",
          "text": [
            "A: ['hard rock', 10, 1.2]\n",
            "B: ['hard rock', 10, 1.2]\n"
          ]
        }
      ]
    },
    {
      "cell_type": "markdown",
      "metadata": {
        "id": "e_Zy0Tmv2ABu"
      },
      "source": [
        "<img src=\"https://s3-api.us-geo.objectstorage.softlayer.net/cf-courses-data/CognitiveClass/PY0101EN/Chapter%202/Images/ListsRef.png\" width=\"1000\" align=\"center\">"
      ]
    },
    {
      "cell_type": "markdown",
      "metadata": {
        "id": "PGYBw9q32ABw"
      },
      "source": [
        "Initially, the value of the first element in <b>B</b> is set as hard rock. If we change the first element in <b>A</b> to <b>banana</b>, we get an unexpected side effect.  As <b>A</b> and <b>B</b> are referencing the same list, if we change list <b>A</b>, then list <b>B</b> also changes. If we check the first element of <b>B</b> we get banana instead of hard rock:"
      ]
    },
    {
      "cell_type": "code",
      "metadata": {
        "id": "tZPg3Pt92ABw",
        "colab": {
          "base_uri": "https://localhost:8080/"
        },
        "outputId": "1b28a7b9-9267-4762-f510-4a9fa775d3a2"
      },
      "source": [
        "# Examine the copy by reference\n",
        "\n",
        "print('B[0]:', B[0])\n",
        "A[0] = \"banana\"\n",
        "print('B[0]:', B[0])"
      ],
      "execution_count": 12,
      "outputs": [
        {
          "output_type": "stream",
          "name": "stdout",
          "text": [
            "B[0]: hard rock\n",
            "B[0]: banana\n"
          ]
        }
      ]
    },
    {
      "cell_type": "markdown",
      "metadata": {
        "id": "dqSLQfv22AB1"
      },
      "source": [
        "This is demonstrated in the following figure: "
      ]
    },
    {
      "cell_type": "markdown",
      "metadata": {
        "id": "1mYh-UR_2AB3"
      },
      "source": [
        "<img src = \"https://s3-api.us-geo.objectstorage.softlayer.net/cf-courses-data/CognitiveClass/PY0101EN/Chapter%202/Images/ListsRefGif.gif\" width=\"1000\" />"
      ]
    },
    {
      "cell_type": "markdown",
      "metadata": {
        "id": "To8UaMW22AB3"
      },
      "source": [
        "You can clone list  **A** by using  the following syntax:"
      ]
    },
    {
      "cell_type": "code",
      "metadata": {
        "id": "0OUNDPfB2AB4",
        "colab": {
          "base_uri": "https://localhost:8080/"
        },
        "outputId": "1add9eaf-1da4-4ed9-dd99-c452af836ce8"
      },
      "source": [
        "# Clone (clone by value) the list A\n",
        "\n",
        "B = A[:]\n",
        "B"
      ],
      "execution_count": 13,
      "outputs": [
        {
          "output_type": "execute_result",
          "data": {
            "text/plain": [
              "['banana', 10, 1.2]"
            ]
          },
          "metadata": {},
          "execution_count": 13
        }
      ]
    },
    {
      "cell_type": "markdown",
      "metadata": {
        "id": "67Mg2AaO2AB9"
      },
      "source": [
        " Variable **B** references a new copy or clone of the original list; this is demonstrated in the following figure:"
      ]
    },
    {
      "cell_type": "markdown",
      "metadata": {
        "id": "HfE2uqk42AB-"
      },
      "source": [
        "<img src=\"https://s3-api.us-geo.objectstorage.softlayer.net/cf-courses-data/CognitiveClass/PY0101EN/Chapter%202/Images/ListsVal.gif\" width=\"1000\" />"
      ]
    },
    {
      "cell_type": "markdown",
      "metadata": {
        "id": "8s2uav0R2AB-"
      },
      "source": [
        "Now if you change <b>A</b>, <b>B</b> will not change: "
      ]
    },
    {
      "cell_type": "code",
      "metadata": {
        "id": "znn-3gHv2AB_",
        "colab": {
          "base_uri": "https://localhost:8080/"
        },
        "outputId": "2a4e2a2b-4b3c-41ae-869b-eafba79b6a75"
      },
      "source": [
        "print('B[0]:', B[0])\n",
        "A[0] = \"hard rock\"\n",
        "print('B[0]:', B[0])"
      ],
      "execution_count": 14,
      "outputs": [
        {
          "output_type": "stream",
          "name": "stdout",
          "text": [
            "B[0]: banana\n",
            "B[0]: banana\n"
          ]
        }
      ]
    },
    {
      "cell_type": "markdown",
      "metadata": {
        "id": "DRbDRdP32ACM"
      },
      "source": [
        "<h2 id=\"quiz\">Quiz on List</h2>"
      ]
    },
    {
      "cell_type": "markdown",
      "metadata": {
        "id": "6lYdJiy72ACO"
      },
      "source": [
        "Create a list <code>a_list</code>, with the following elements <code>1</code>, <code>hello</code>, <code>[1,2,3]</code> and <code>True</code>. "
      ]
    },
    {
      "cell_type": "code",
      "metadata": {
        "id": "beII12YY2ACP",
        "colab": {
          "base_uri": "https://localhost:8080/"
        },
        "outputId": "6601141f-f443-48fc-dd7a-7707238630ad"
      },
      "source": [
        "# Write your code below and press Shift+Enter to executes\n",
        "a_list = ['1', 'hello', '[1,2,3]', True] \n",
        "a_list"
      ],
      "execution_count": 16,
      "outputs": [
        {
          "output_type": "execute_result",
          "data": {
            "text/plain": [
              "['1', 'hello', '[1,2,3]', True]"
            ]
          },
          "metadata": {},
          "execution_count": 16
        }
      ]
    },
    {
      "cell_type": "markdown",
      "metadata": {
        "id": "HQUuOKY_2ACV"
      },
      "source": [
        "Double-click <b>here</b> for the solution.\n",
        "\n",
        "<!-- Your answer is below:\n",
        "a_list = [1, 'hello', [1, 2, 3] , True]\n",
        "a_list\n",
        "-->"
      ]
    },
    {
      "cell_type": "markdown",
      "metadata": {
        "id": "1HzgQgqS2ACW"
      },
      "source": [
        "Find the value stored at index 1 of <code>a_list</code>."
      ]
    },
    {
      "cell_type": "code",
      "metadata": {
        "id": "LZo-PX3j2ACX",
        "colab": {
          "base_uri": "https://localhost:8080/",
          "height": 35
        },
        "outputId": "5e9bc419-5551-43ca-c750-e20cd7aab8bd"
      },
      "source": [
        "# Write your code below and press Shift+Enter to execute\n",
        "a_list[1]"
      ],
      "execution_count": 17,
      "outputs": [
        {
          "output_type": "execute_result",
          "data": {
            "text/plain": [
              "'hello'"
            ],
            "application/vnd.google.colaboratory.intrinsic+json": {
              "type": "string"
            }
          },
          "metadata": {},
          "execution_count": 17
        }
      ]
    },
    {
      "cell_type": "markdown",
      "metadata": {
        "id": "sJztsE282ACc"
      },
      "source": [
        "Double-click <b>here</b> for the solution.\n",
        "\n",
        "<!-- Your answer is below:\n",
        "a_list[1]\n",
        "-->"
      ]
    },
    {
      "cell_type": "markdown",
      "metadata": {
        "id": "yxx46MiS2ACd"
      },
      "source": [
        "Retrieve the elements stored at index 1, 2 and 3 of <code>a_list</code>."
      ]
    },
    {
      "cell_type": "code",
      "metadata": {
        "id": "yvPeitkP2ACd",
        "colab": {
          "base_uri": "https://localhost:8080/"
        },
        "outputId": "60a61f54-effd-4d9d-8087-b7f68e21eef5"
      },
      "source": [
        "# Write your code below and press Shift+Enter to execute\n",
        "a_list[1:4]"
      ],
      "execution_count": 18,
      "outputs": [
        {
          "output_type": "execute_result",
          "data": {
            "text/plain": [
              "['hello', '[1,2,3]', True]"
            ]
          },
          "metadata": {},
          "execution_count": 18
        }
      ]
    },
    {
      "cell_type": "markdown",
      "metadata": {
        "id": "UH0h01Nz2ACi"
      },
      "source": [
        "Double-click <b>here</b> for the solution.\n",
        "\n",
        "<!-- Your answer is below:\n",
        "a_list[1:4]\n",
        "-->"
      ]
    },
    {
      "cell_type": "markdown",
      "metadata": {
        "id": "eQqJQfW32ACj"
      },
      "source": [
        "Concatenate the following lists <code>A = [1, 'a']</code> and <code>B = [2, 1, 'd']</code>:"
      ]
    },
    {
      "cell_type": "code",
      "metadata": {
        "id": "yeM60r-p2ACk",
        "colab": {
          "base_uri": "https://localhost:8080/"
        },
        "outputId": "ddb55821-4088-46da-908b-03e7446d7a26"
      },
      "source": [
        "# Write your code below and press Shift+Enter to execute\n",
        "A = [1, 'a']\n",
        "B = [2, 1, 'd']\n",
        "A + B"
      ],
      "execution_count": 19,
      "outputs": [
        {
          "output_type": "execute_result",
          "data": {
            "text/plain": [
              "[1, 'a', 2, 1, 'd']"
            ]
          },
          "metadata": {},
          "execution_count": 19
        }
      ]
    },
    {
      "cell_type": "markdown",
      "metadata": {
        "id": "IOo1_tjf2ACq"
      },
      "source": [
        "Double-click <b>here</b> for the solution.\n",
        "\n",
        "<!-- Your answer is below:\n",
        "A = [1, 'a'] \n",
        "B = [2, 1, 'd']\n",
        "A + B\n",
        "-->"
      ]
    },
    {
      "cell_type": "markdown",
      "metadata": {
        "id": "Ml6cGgNh2ACr"
      },
      "source": [
        "<hr>\n",
        "<h2>The last exercise!</h2>\n",
        "<p>Congratulations, you have completed your first lesson and hands-on lab in Python. However, there is one more thing you need to do. The Data Science community encourages sharing work. The best way to share and showcase your work is to share it on GitHub. By sharing your notebook on GitHub you are not only building your reputation with fellow data scientists, but you can also show it off when applying for a job. Even though this was your first piece of work, it is never too early to start building good habits. So, please read and follow <a href=\"https://cognitiveclass.ai/blog/data-scientists-stand-out-by-sharing-your-notebooks/\" target=\"_blank\">this article</a> to learn how to share your work.\n",
        "<hr>"
      ]
    },
    {
      "cell_type": "markdown",
      "metadata": {
        "id": "JHRWvasU2ACs"
      },
      "source": [
        "<h3>About the Authors:</h3>  \n",
        "<p><a href=\"https://www.linkedin.com/in/joseph-s-50398b136/\" target=\"_blank\">Joseph Santarcangelo</a> is a Data Scientist at IBM, and holds a PhD in Electrical Engineering. His research focused on using Machine Learning, Signal Processing, and Computer Vision to determine how videos impact human cognition. Joseph has been working for IBM since he completed his PhD.</p>"
      ]
    },
    {
      "cell_type": "markdown",
      "metadata": {
        "id": "pldPV21I2ACt"
      },
      "source": [
        "<p>Other contributors: <a href=\"https://www.linkedin.com/in/jiahui-mavis-zhou-a4537814a\">Mavis Zhou</a>, <a href=\"https://github.com/computationalcore\" target=\"_blank\">Vin Busquet</a>, <a href=\"https://github.com/raphtrajano\" target=\"_blank\">Raph Trajano</a></p>"
      ]
    },
    {
      "cell_type": "markdown",
      "metadata": {
        "id": "KgvrfK8a2ACu"
      },
      "source": [
        "<hr>"
      ]
    },
    {
      "cell_type": "markdown",
      "metadata": {
        "id": "XuKDDEgo2ACv"
      },
      "source": [
        "<p>Copyright &copy; 2018 IBM Developer Skills Network. This notebook and its source code are released under the terms of the <a href=\"https://cognitiveclass.ai/mit-license/\">MIT License</a>.</p>"
      ]
    }
  ]
}